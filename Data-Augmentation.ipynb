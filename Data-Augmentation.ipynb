{
 "cells": [
  {
   "cell_type": "markdown",
   "metadata": {},
   "source": [
    "# Data Augmentation for brain tumor segmentation\n",
    "\n",
    "## Qimin Zhang and Weiwei Qi"
   ]
  },
  {
   "cell_type": "markdown",
   "metadata": {},
   "source": [
    "## 1. Config"
   ]
  },
  {
   "cell_type": "code",
   "execution_count": 18,
   "metadata": {},
   "outputs": [],
   "source": [
    "import os\n",
    "import random\n",
    "import warnings\n",
    "warnings.filterwarnings('ignore')\n",
    "\n",
    "import torch\n",
    "import torch.optim as optim\n",
    "from torch.utils.data import Dataset, SubsetRandomSampler\n",
    "import torchvision.transforms as transforms\n",
    "import torchvision.transforms.functional as TF\n",
    "\n",
    "from time import time\n",
    "\n",
    "import numpy as np\n",
    "import matplotlib.pyplot as plt\n",
    "%matplotlib inline\n",
    "\n",
    "import nibabel as nib\n",
    "import tqdm\n",
    "\n",
    "import torch.nn.functional as F\n",
    "import torch.nn as nn\n",
    "\n",
    "import skimage.transform\n",
    "\n",
    "torch.manual_seed(4460)\n",
    "np.random.seed(4460)"
   ]
  },
  {
   "cell_type": "markdown",
   "metadata": {},
   "source": [
    "## 2. Convert Nifti to Numpy"
   ]
  },
  {
   "cell_type": "code",
   "execution_count": 17,
   "metadata": {},
   "outputs": [
    {
     "name": "stdout",
     "output_type": "stream",
     "text": [
      "Folder already exists, so I did not create any numpy from t1.\n",
      "Folder already exists, so I did not create any numpy from t1 contrast.\n",
      "Folder already exists, so I did not create any numpy from tumors.\n",
      "Folder already exists, so I did not create any numpy from brain masks.\n",
      "All conversion done.\n"
     ]
    }
   ],
   "source": [
    "dataPath = './data'\n",
    "\n",
    "\n",
    "t1_path = os.path.join(dataPath, 'all_gbm_pre_reg')\n",
    "t1_contrast_path = os.path.join(dataPath, 'all_gbm_post_reg')\n",
    "tumor_path = os.path.join(dataPath, 'all_tumors_reg')\n",
    "brain_mask_path = os.path.join(dataPath, 'brain_masks')\n",
    "\n",
    "\n",
    "t1_path = os.path.join(dataPath, 'all_gbm_pre_reg')\n",
    "t1_contrast_path = os.path.join(dataPath, 'all_gbm_post_reg')\n",
    "tumor_path = os.path.join(dataPath, 'all_tumors_reg')\n",
    "brain_mask_path = os.path.join(dataPath, 'brain_masks')\n",
    "\n",
    "\n",
    "imgPaths = os.listdir(t1_path)\n",
    "t1_locations = []\n",
    "for path in imgPaths:\n",
    "    if path.endswith('.nii.gz'):\n",
    "        t1_locations.append(path)\n",
    "\n",
    "imgPaths = os.listdir(t1_contrast_path)\n",
    "t1_contrast_locations = []\n",
    "for path in imgPaths:\n",
    "    if path.endswith('.nii.gz'):\n",
    "        t1_contrast_locations.append(path)\n",
    "\n",
    "imgPaths = os.listdir(tumor_path)\n",
    "tumor_locations = []\n",
    "for path in imgPaths:\n",
    "    if path.endswith('.nii.gz'):\n",
    "        tumor_locations.append(path)\n",
    "        \n",
    "imgPaths = os.listdir(brain_mask_path)\n",
    "brain_mask_locations = []\n",
    "for path in imgPaths:\n",
    "    if path.endswith('.nii.gz'):\n",
    "        brain_mask_locations.append(path)\n",
    "        \n",
    "newPath = os.path.join(dataPath, 'numpyData')\n",
    "if not os.path.exists(newPath):\n",
    "    os.mkdir(newPath)\n",
    "        \n",
    "num_t1_path = os.path.join(newPath, 'num_t1')\n",
    "if os.path.exists(num_t1_path):\n",
    "    print('Folder already exists, so I did not create any numpy from t1.')\n",
    "else:\n",
    "    os.mkdir(num_t1_path)\n",
    "\n",
    "    print('I am starting to convert t1 images.')\n",
    "    path = t1_path\n",
    "    t1_progress = tqdm.tqdm(enumerate(t1_locations))\n",
    "    for i, imageLocation in t1_progress:\n",
    "        t1_progress.set_description(f\"Processing image {imageLocation}\")\n",
    "        # get the .nii image\n",
    "        imageData = nib.load(os.path.join(path,imageLocation))\n",
    "        # convert to numpy\n",
    "        numpyImage = imageData.get_data()\n",
    "        np.save(os.path.join(num_t1_path, imageLocation), numpyImage)\n",
    "        \n",
    "        \n",
    "num_t1_contrast_path = os.path.join(newPath, 'num_t1_contrast')\n",
    "if os.path.exists(num_t1_contrast_path):\n",
    "    print('Folder already exists, so I did not create any numpy from t1 contrast.')\n",
    "else:\n",
    "    os.mkdir(num_t1_contrast_path)\n",
    "\n",
    "    print('I am starting to convert t1 contrast images.')\n",
    "    path = t1_contrast_path\n",
    "    t1_contrast_progress = tqdm.tqdm(enumerate(t1_contrast_locations))\n",
    "    for i, imageLocation in t1_contrast_progress:\n",
    "        t1_contrast_progress.set_description(f\"Processing image {imageLocation}\")\n",
    "        # get the .nii image\n",
    "        imageData = nib.load(os.path.join(path,imageLocation))\n",
    "        # convert to numpy\n",
    "        numpyImage = imageData.get_data()\n",
    "        np.save(os.path.join(num_t1_contrast_path, imageLocation), numpyImage)\n",
    "        \n",
    "num_tumor_path = os.path.join(newPath, 'num_tumor')\n",
    "if os.path.exists(num_tumor_path):\n",
    "    print('Folder already exists, so I did not create any numpy from tumors.')\n",
    "else:\n",
    "    os.mkdir(num_tumor_path)\n",
    "\n",
    "    print('I am starting to convert tumor images.')\n",
    "    path = tumor_path\n",
    "    tumor_progress = tqdm.tqdm(enumerate(tumor_locations))\n",
    "    for i, imageLocation in tumor_progress:\n",
    "        tumor_progress.set_description(f\"Processing image {imageLocation}\")\n",
    "        # get the .nii image\n",
    "        imageData = nib.load(os.path.join(path,imageLocation))\n",
    "        # convert to numpy\n",
    "        numpyImage = imageData.get_data()\n",
    "        np.save(os.path.join(num_tumor_path, imageLocation), numpyImage)\n",
    "        \n",
    "num_brain_mask_path = os.path.join(newPath, 'num_brain_mask')\n",
    "if os.path.exists(num_brain_mask_path):\n",
    "    print('Folder already exists, so I did not create any numpy from brain masks.')\n",
    "else:\n",
    "    os.mkdir(num_brain_mask_path)\n",
    "\n",
    "    print('I am starting to convert brain mask images.')\n",
    "    path = brain_mask_path\n",
    "    brain_mask_progress = tqdm.tqdm(enumerate(brain_mask_locations))\n",
    "    for i, imageLocation in brain_mask_progress:\n",
    "        brain_mask_progress.set_description(f\"Processing image {imageLocation}\")\n",
    "        # get the .nii image\n",
    "        imageData = nib.load(os.path.join(path,imageLocation))\n",
    "        # convert to numpy\n",
    "        numpyImage = imageData.get_data()\n",
    "        np.save(os.path.join(num_brain_mask_path, imageLocation), numpyImage)\n",
    "\n",
    "print('All conversion done.')"
   ]
  },
  {
   "cell_type": "markdown",
   "metadata": {},
   "source": [
    "## 3. Traditional Data Augmentation with TorchIO"
   ]
  },
  {
   "cell_type": "code",
   "execution_count": 16,
   "metadata": {},
   "outputs": [
    {
     "name": "stdout",
     "output_type": "stream",
     "text": [
      "If you use TorchIO for your research, please cite the following paper:\n",
      "\n",
      "Pérez-García et al., TorchIO: a Python library for efficient loading,\n",
      "preprocessing, augmentation and patch-based sampling of medical images\n",
      "in deep learning\n",
      "(https://arxiv.org/abs/2003.04696)\n"
     ]
    }
   ],
   "source": [
    "import torchio\n",
    "from torchio.transforms import Rescale, RandomAffine\n",
    "from torchvision.transforms import Compose\n",
    "from torch.utils.data import DataLoader\n",
    "\n"
   ]
  },
  {
   "cell_type": "markdown",
   "metadata": {},
   "source": [
    "see if I can commit: Mar 30"
   ]
  }
 ],
 "metadata": {
  "kernelspec": {
   "display_name": "Python 3",
   "language": "python",
   "name": "python3"
  },
  "language_info": {
   "codemirror_mode": {
    "name": "ipython",
    "version": 3
   },
   "file_extension": ".py",
   "mimetype": "text/x-python",
   "name": "python",
   "nbconvert_exporter": "python",
   "pygments_lexer": "ipython3",
   "version": "3.7.6"
  }
 },
 "nbformat": 4,
 "nbformat_minor": 4
}
